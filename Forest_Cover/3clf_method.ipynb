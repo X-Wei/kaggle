{
 "metadata": {
  "name": "",
  "signature": "sha256:0cd789fa45ea7e354e302155c6f4f5b1bd17727260197841b51e5b18edb0b44d"
 },
 "nbformat": 3,
 "nbformat_minor": 0,
 "worksheets": [
  {
   "cells": [
    {
     "cell_type": "heading",
     "level": 1,
     "metadata": {},
     "source": [
      "Forest Cover Type (2015-01-13): script using 3 classifiers"
     ]
    },
    {
     "cell_type": "markdown",
     "metadata": {},
     "source": [
      "In this ipynb, we use 3 classifiers to make predictions.  \n",
      "\n",
      "**We have 3 classifiers in total:**\n",
      "1. The first classifier, **`clf_0`**: predicts wheter an instance belongs to class 1 and 2, or it belongs to class 3 to 7.\n",
      "2. For instances belonging to class 1/2, we use the classifier **`clf_12`**, to distinguish between class 1 and class 2.\n",
      "3. For instances belonging to class 3~7, use classifier **`clf_37`**, to tell which class it belongs to."
     ]
    },
    {
     "cell_type": "markdown",
     "metadata": {},
     "source": [
      "---------------"
     ]
    },
    {
     "cell_type": "markdown",
     "metadata": {},
     "source": [
      "**Change the \"`clf_0`\", \"`clf_12`\" and \"`clf_37`\" below in order to get different result:**"
     ]
    },
    {
     "cell_type": "code",
     "collapsed": false,
     "input": [
      "from sklearn.ensemble import RandomForestClassifier, ExtraTreesClassifier, AdaBoostClassifier\n",
      "#clf_0 = RandomForestClassifier(n_estimators = 5, n_jobs = -1)\n",
      "#clf_12 = RandomForestClassifier(n_estimators = 5, n_jobs = -1)\n",
      "#clf_37 = RandomForestClassifier(n_estimators = 5, n_jobs = -1)\n",
      "clf_et =  ExtraTreesClassifier(n_estimators=400, criterion='gini', max_depth=None, \n",
      "                        min_samples_split=2, min_samples_leaf=1, max_features='auto', \n",
      "                        bootstrap=False, oob_score=False, n_jobs=-1, verbose=0, \n",
      "                        min_density=None, random_state=0)\n",
      "\n",
      "#clf_0 = AdaBoostClassifier(base_estimator=clf_et, n_estimators=300, learning_rate=0.5, algorithm='SAMME', random_state=1)\n",
      "\n",
      "clf_12 = AdaBoostClassifier(base_estimator=clf_et, n_estimators=300, learning_rate=0.5, algorithm='SAMME', random_state=1)\n",
      "clf_37 = AdaBoostClassifier(base_estimator=clf_et, n_estimators=100, learning_rate=0.5, algorithm='SAMME', random_state=1)"
     ],
     "language": "python",
     "metadata": {},
     "outputs": [],
     "prompt_number": 1
    },
    {
     "cell_type": "markdown",
     "metadata": {},
     "source": [
      "**Change the variables below to specify input/output file names: **"
     ]
    },
    {
     "cell_type": "code",
     "collapsed": false,
     "input": [
      "#train_fn = 'csv_data/train.csv'\n",
      "#test_fn = 'csv_data/test.csv'\n",
      "train_fn = 'train_FE5.csv'\n",
      "test_fn = 'test_FE5.csv'\n",
      "out_fn = '0118_3step_ExTree_FE5.csv'\n",
      "\n",
      "save_train0 = False\n",
      "train0_fn = 'train0_FE2.csv'\n",
      "\n",
      "save_train12 = False\n",
      "train12_fn = 'train12_FE2.csv'\n",
      "\n",
      "save_train37 = False\n",
      "train37_fn = 'train37_FE2.csv'"
     ],
     "language": "python",
     "metadata": {},
     "outputs": [],
     "prompt_number": 2
    },
    {
     "cell_type": "markdown",
     "metadata": {},
     "source": [
      "--------------------------------"
     ]
    },
    {
     "cell_type": "heading",
     "level": 2,
     "metadata": {},
     "source": [
      "0. Reading data & defining functions"
     ]
    },
    {
     "cell_type": "heading",
     "level": 3,
     "metadata": {},
     "source": [
      "0.1 Reading data"
     ]
    },
    {
     "cell_type": "code",
     "collapsed": false,
     "input": [
      "import pandas as pd\n",
      "df_train = pd.read_csv(train_fn)\n",
      "df_test = pd.read_csv(test_fn)\n",
      "df_train.shape, df_test.shape"
     ],
     "language": "python",
     "metadata": {},
     "outputs": [
      {
       "metadata": {},
       "output_type": "pyout",
       "prompt_number": 3,
       "text": [
        "((15120, 95), (565892, 94))"
       ]
      }
     ],
     "prompt_number": 3
    },
    {
     "cell_type": "markdown",
     "metadata": {},
     "source": [
      "The list **\"`feature_cols`\"** is the columns (features) to use when training our clfs. "
     ]
    },
    {
     "cell_type": "code",
     "collapsed": false,
     "input": [
      "feature_cols = [col for col in df_train.columns if col not in ['Cover_Type','Id']] #the attributes to use when predicting"
     ],
     "language": "python",
     "metadata": {},
     "outputs": [],
     "prompt_number": 4
    },
    {
     "cell_type": "markdown",
     "metadata": {},
     "source": [
      "Here we add a boolean attribute:** \"`isClass12`\"**, indicating whether it belongs to first 2 classes or not."
     ]
    },
    {
     "cell_type": "code",
     "collapsed": false,
     "input": [
      "df_train['isClass12'] = df_train.Cover_Type<3\n",
      "test_ids = df_test['Id']\n",
      "len(test_ids)"
     ],
     "language": "python",
     "metadata": {},
     "outputs": [
      {
       "metadata": {},
       "output_type": "pyout",
       "prompt_number": 5,
       "text": [
        "565892"
       ]
      }
     ],
     "prompt_number": 5
    },
    {
     "cell_type": "heading",
     "level": 3,
     "metadata": {},
     "source": [
      "0.2 Defining helper functions"
     ]
    },
    {
     "cell_type": "code",
     "collapsed": false,
     "input": [
      "from sklearn.cross_validation import cross_val_score, KFold\n",
      "from scipy.stats import sem\n",
      "import numpy as np"
     ],
     "language": "python",
     "metadata": {},
     "outputs": [],
     "prompt_number": 6
    },
    {
     "cell_type": "markdown",
     "metadata": {},
     "source": [
      "**`cal_CV_score()`**: function to estimate classifier performance by CV"
     ]
    },
    {
     "cell_type": "code",
     "collapsed": false,
     "input": [
      "def cal_CV_score(clf, X, y, K=5, seed=1):\n",
      "    cv = KFold( X.shape[0], K, shuffle=True, random_state = seed )\n",
      "    print 'CV results: ', \n",
      "    scores = cross_val_score(clf, X, y, cv = cv)\n",
      "    print scores    \n",
      "    m = np.mean(scores)\n",
      "    std = sem(scores)\n",
      "    print \"CV score= %f +/- %f\" % (m, std)\n",
      "    return (m, std)"
     ],
     "language": "python",
     "metadata": {},
     "outputs": [],
     "prompt_number": 7
    },
    {
     "cell_type": "markdown",
     "metadata": {},
     "source": [
      "**`train_and_evaluate()`**: train classifier, and calculate CV score of this classifier"
     ]
    },
    {
     "cell_type": "code",
     "collapsed": false,
     "input": [
      "def train_and_evaluate(clf,X, y, K=5, seed=1):\n",
      "    print 'training...',\n",
      "    clf.fit(X, y)\n",
      "    print 'done'\n",
      "    return cal_CV_score(clf, X, y, K, seed)"
     ],
     "language": "python",
     "metadata": {},
     "outputs": [],
     "prompt_number": 8
    },
    {
     "cell_type": "markdown",
     "metadata": {},
     "source": [
      "--------------------------------"
     ]
    },
    {
     "cell_type": "heading",
     "level": 2,
     "metadata": {},
     "source": [
      "1. \"`clf_0`\": classifying whether an instance belongs to first 2 classes"
     ]
    },
    {
     "cell_type": "heading",
     "level": 3,
     "metadata": {},
     "source": [
      "1.1 Training `clf_0`"
     ]
    },
    {
     "cell_type": "code",
     "collapsed": false,
     "input": [
      "X_train0 = df_train[feature_cols]\n",
      "y0 = df_train['isClass12']\n",
      "\n",
      "print 'traing clf_0...'\n",
      "#err0 = train_and_evaluate( clf_0, X_train0, y0 )\n",
      "\n",
      "from sklearn.preprocessing import balance_weights\n",
      "#clf = RandomForestClassifier(n_estimators=200)\n",
      "#clf_0 = clf.fit(X_train0, y0, sample_weight = balance_weights(y0))\n",
      "clf = AdaBoostClassifier(base_estimator=RandomForestClassifier(n_estimators=200), \n",
      "                   n_estimators=300, learning_rate=0.5, random_state=1)\n",
      "clf_0 = clf.fit(X_train0, y0, sample_weight = balance_weights(y0))\n",
      "\n",
      "err0 = cal_CV_score(clf_0, X_train0, y0)"
     ],
     "language": "python",
     "metadata": {},
     "outputs": [
      {
       "output_type": "stream",
       "stream": "stdout",
       "text": [
        "traing clf_0...\n",
        "CV results: "
       ]
      },
      {
       "output_type": "stream",
       "stream": "stdout",
       "text": [
        " [ 0.95998677  0.96527778  0.96693122  0.96660053  0.96825397]\n",
        "CV score= 0.965410 +/- 0.001436\n"
       ]
      },
      {
       "output_type": "stream",
       "stream": "stderr",
       "text": [
        "/usr/lib/python2.7/dist-packages/sklearn/utils/__init__.py:93: DeprecationWarning: Function balance_weights is deprecated; balance_weights is an internal function and will be removed in 0.16\n",
        "  warnings.warn(msg, category=DeprecationWarning)\n"
       ]
      }
     ],
     "prompt_number": 9
    },
    {
     "cell_type": "markdown",
     "metadata": {},
     "source": [
      "**(Store our classifier:)**"
     ]
    },
    {
     "cell_type": "code",
     "collapsed": false,
     "input": [
      "#model_name = 'clf_0.model'\n",
      "#import cPickle as pk\n",
      "#with open(model_name, 'w') as f:\n",
      "  #  pk.dump(clf_0, f)"
     ],
     "language": "python",
     "metadata": {},
     "outputs": [],
     "prompt_number": 10
    },
    {
     "cell_type": "markdown",
     "metadata": {},
     "source": [
      "**(we can later on use the model by:) **"
     ]
    },
    {
     "cell_type": "code",
     "collapsed": false,
     "input": [
      "#with open(model_name) as f:\n",
      " #   clf_0 = pk.load( f )"
     ],
     "language": "python",
     "metadata": {},
     "outputs": [],
     "prompt_number": 11
    },
    {
     "cell_type": "markdown",
     "metadata": {},
     "source": [
      "**(Saving the `df_train0` , in order to train `clf_` separately later on:)**"
     ]
    },
    {
     "cell_type": "code",
     "collapsed": false,
     "input": [
      "if save_train0==True:\n",
      "    df_train.to_csv(train0_fn, index = False)"
     ],
     "language": "python",
     "metadata": {},
     "outputs": [],
     "prompt_number": 12
    },
    {
     "cell_type": "heading",
     "level": 3,
     "metadata": {},
     "source": [
      "1.2 Getting the predicted result (\"`y0_prd`\") by `clf_0`"
     ]
    },
    {
     "cell_type": "code",
     "collapsed": false,
     "input": [
      "X_test = df_test[feature_cols]\n",
      "y0_prd = clf_0.predict(X_test)\n",
      "len(y0_prd)"
     ],
     "language": "python",
     "metadata": {},
     "outputs": [
      {
       "ename": "MemoryError",
       "evalue": "",
       "output_type": "pyerr",
       "traceback": [
        "\u001b[0;31m---------------------------------------------------------------------------\u001b[0m\n\u001b[0;31mMemoryError\u001b[0m                               Traceback (most recent call last)",
        "\u001b[0;32m<ipython-input-13-663820bea011>\u001b[0m in \u001b[0;36m<module>\u001b[0;34m()\u001b[0m\n\u001b[1;32m      1\u001b[0m \u001b[0mX_test\u001b[0m \u001b[0;34m=\u001b[0m \u001b[0mdf_test\u001b[0m\u001b[0;34m[\u001b[0m\u001b[0mfeature_cols\u001b[0m\u001b[0;34m]\u001b[0m\u001b[0;34m\u001b[0m\u001b[0m\n\u001b[0;32m----> 2\u001b[0;31m \u001b[0my0_prd\u001b[0m \u001b[0;34m=\u001b[0m \u001b[0mclf_0\u001b[0m\u001b[0;34m.\u001b[0m\u001b[0mpredict\u001b[0m\u001b[0;34m(\u001b[0m\u001b[0mX_test\u001b[0m\u001b[0;34m)\u001b[0m\u001b[0;34m\u001b[0m\u001b[0m\n\u001b[0m\u001b[1;32m      3\u001b[0m \u001b[0mlen\u001b[0m\u001b[0;34m(\u001b[0m\u001b[0my0_prd\u001b[0m\u001b[0;34m)\u001b[0m\u001b[0;34m\u001b[0m\u001b[0m\n",
        "\u001b[0;32m/usr/lib/python2.7/dist-packages/sklearn/ensemble/weight_boosting.pyc\u001b[0m in \u001b[0;36mpredict\u001b[0;34m(self, X)\u001b[0m\n\u001b[1;32m    557\u001b[0m             \u001b[0mThe\u001b[0m \u001b[0mpredicted\u001b[0m \u001b[0mclasses\u001b[0m\u001b[0;34m.\u001b[0m\u001b[0;34m\u001b[0m\u001b[0m\n\u001b[1;32m    558\u001b[0m         \"\"\"\n\u001b[0;32m--> 559\u001b[0;31m         \u001b[0mpred\u001b[0m \u001b[0;34m=\u001b[0m \u001b[0mself\u001b[0m\u001b[0;34m.\u001b[0m\u001b[0mdecision_function\u001b[0m\u001b[0;34m(\u001b[0m\u001b[0mX\u001b[0m\u001b[0;34m)\u001b[0m\u001b[0;34m\u001b[0m\u001b[0m\n\u001b[0m\u001b[1;32m    560\u001b[0m \u001b[0;34m\u001b[0m\u001b[0m\n\u001b[1;32m    561\u001b[0m         \u001b[0;32mif\u001b[0m \u001b[0mself\u001b[0m\u001b[0;34m.\u001b[0m\u001b[0mn_classes_\u001b[0m \u001b[0;34m==\u001b[0m \u001b[0;36m2\u001b[0m\u001b[0;34m:\u001b[0m\u001b[0;34m\u001b[0m\u001b[0m\n",
        "\u001b[0;32m/usr/lib/python2.7/dist-packages/sklearn/ensemble/weight_boosting.pyc\u001b[0m in \u001b[0;36mdecision_function\u001b[0;34m(self, X)\u001b[0m\n\u001b[1;32m    615\u001b[0m         \"\"\"\n\u001b[1;32m    616\u001b[0m         \u001b[0mself\u001b[0m\u001b[0;34m.\u001b[0m\u001b[0m_check_fitted\u001b[0m\u001b[0;34m(\u001b[0m\u001b[0;34m)\u001b[0m\u001b[0;34m\u001b[0m\u001b[0m\n\u001b[0;32m--> 617\u001b[0;31m         \u001b[0mX\u001b[0m \u001b[0;34m=\u001b[0m \u001b[0mnp\u001b[0m\u001b[0;34m.\u001b[0m\u001b[0masarray\u001b[0m\u001b[0;34m(\u001b[0m\u001b[0mX\u001b[0m\u001b[0;34m)\u001b[0m\u001b[0;34m\u001b[0m\u001b[0m\n\u001b[0m\u001b[1;32m    618\u001b[0m \u001b[0;34m\u001b[0m\u001b[0m\n\u001b[1;32m    619\u001b[0m         \u001b[0mn_classes\u001b[0m \u001b[0;34m=\u001b[0m \u001b[0mself\u001b[0m\u001b[0;34m.\u001b[0m\u001b[0mn_classes_\u001b[0m\u001b[0;34m\u001b[0m\u001b[0m\n",
        "\u001b[0;32m/usr/lib/python2.7/dist-packages/numpy/core/numeric.pyc\u001b[0m in \u001b[0;36masarray\u001b[0;34m(a, dtype, order)\u001b[0m\n\u001b[1;32m    458\u001b[0m \u001b[0;34m\u001b[0m\u001b[0m\n\u001b[1;32m    459\u001b[0m     \"\"\"\n\u001b[0;32m--> 460\u001b[0;31m     \u001b[0;32mreturn\u001b[0m \u001b[0marray\u001b[0m\u001b[0;34m(\u001b[0m\u001b[0ma\u001b[0m\u001b[0;34m,\u001b[0m \u001b[0mdtype\u001b[0m\u001b[0;34m,\u001b[0m \u001b[0mcopy\u001b[0m\u001b[0;34m=\u001b[0m\u001b[0mFalse\u001b[0m\u001b[0;34m,\u001b[0m \u001b[0morder\u001b[0m\u001b[0;34m=\u001b[0m\u001b[0morder\u001b[0m\u001b[0;34m)\u001b[0m\u001b[0;34m\u001b[0m\u001b[0m\n\u001b[0m\u001b[1;32m    461\u001b[0m \u001b[0;34m\u001b[0m\u001b[0m\n\u001b[1;32m    462\u001b[0m \u001b[0;32mdef\u001b[0m \u001b[0masanyarray\u001b[0m\u001b[0;34m(\u001b[0m\u001b[0ma\u001b[0m\u001b[0;34m,\u001b[0m \u001b[0mdtype\u001b[0m\u001b[0;34m=\u001b[0m\u001b[0mNone\u001b[0m\u001b[0;34m,\u001b[0m \u001b[0morder\u001b[0m\u001b[0;34m=\u001b[0m\u001b[0mNone\u001b[0m\u001b[0;34m)\u001b[0m\u001b[0;34m:\u001b[0m\u001b[0;34m\u001b[0m\u001b[0m\n",
        "\u001b[0;32m/usr/local/lib/python2.7/dist-packages/pandas/core/generic.pyc\u001b[0m in \u001b[0;36m__array__\u001b[0;34m(self, dtype)\u001b[0m\n\u001b[1;32m    722\u001b[0m \u001b[0;34m\u001b[0m\u001b[0m\n\u001b[1;32m    723\u001b[0m     \u001b[0;32mdef\u001b[0m \u001b[0m__array__\u001b[0m\u001b[0;34m(\u001b[0m\u001b[0mself\u001b[0m\u001b[0;34m,\u001b[0m \u001b[0mdtype\u001b[0m\u001b[0;34m=\u001b[0m\u001b[0mNone\u001b[0m\u001b[0;34m)\u001b[0m\u001b[0;34m:\u001b[0m\u001b[0;34m\u001b[0m\u001b[0m\n\u001b[0;32m--> 724\u001b[0;31m         \u001b[0;32mreturn\u001b[0m \u001b[0m_values_from_object\u001b[0m\u001b[0;34m(\u001b[0m\u001b[0mself\u001b[0m\u001b[0;34m)\u001b[0m\u001b[0;34m\u001b[0m\u001b[0m\n\u001b[0m\u001b[1;32m    725\u001b[0m \u001b[0;34m\u001b[0m\u001b[0m\n\u001b[1;32m    726\u001b[0m     \u001b[0;32mdef\u001b[0m \u001b[0m__array_wrap__\u001b[0m\u001b[0;34m(\u001b[0m\u001b[0mself\u001b[0m\u001b[0;34m,\u001b[0m \u001b[0mresult\u001b[0m\u001b[0;34m,\u001b[0m \u001b[0mcontext\u001b[0m\u001b[0;34m=\u001b[0m\u001b[0mNone\u001b[0m\u001b[0;34m)\u001b[0m\u001b[0;34m:\u001b[0m\u001b[0;34m\u001b[0m\u001b[0m\n",
        "\u001b[0;32m/usr/local/lib/python2.7/dist-packages/pandas/lib.so\u001b[0m in \u001b[0;36mpandas.lib.values_from_object (pandas/lib.c:4031)\u001b[0;34m()\u001b[0m\n",
        "\u001b[0;32m/usr/local/lib/python2.7/dist-packages/pandas/core/generic.pyc\u001b[0m in \u001b[0;36mget_values\u001b[0;34m(self)\u001b[0m\n\u001b[1;32m   2127\u001b[0m     \u001b[0;32mdef\u001b[0m \u001b[0mget_values\u001b[0m\u001b[0;34m(\u001b[0m\u001b[0mself\u001b[0m\u001b[0;34m)\u001b[0m\u001b[0;34m:\u001b[0m\u001b[0;34m\u001b[0m\u001b[0m\n\u001b[1;32m   2128\u001b[0m         \u001b[0;34m\"\"\" same as values (but handles sparseness conversions) \"\"\"\u001b[0m\u001b[0;34m\u001b[0m\u001b[0m\n\u001b[0;32m-> 2129\u001b[0;31m         \u001b[0;32mreturn\u001b[0m \u001b[0mself\u001b[0m\u001b[0;34m.\u001b[0m\u001b[0mas_matrix\u001b[0m\u001b[0;34m(\u001b[0m\u001b[0;34m)\u001b[0m\u001b[0;34m\u001b[0m\u001b[0m\n\u001b[0m\u001b[1;32m   2130\u001b[0m \u001b[0;34m\u001b[0m\u001b[0m\n\u001b[1;32m   2131\u001b[0m     \u001b[0;32mdef\u001b[0m \u001b[0mget_dtype_counts\u001b[0m\u001b[0;34m(\u001b[0m\u001b[0mself\u001b[0m\u001b[0;34m)\u001b[0m\u001b[0;34m:\u001b[0m\u001b[0;34m\u001b[0m\u001b[0m\n",
        "\u001b[0;32m/usr/local/lib/python2.7/dist-packages/pandas/core/generic.pyc\u001b[0m in \u001b[0;36mas_matrix\u001b[0;34m(self, columns)\u001b[0m\n\u001b[1;32m   2100\u001b[0m         \u001b[0mself\u001b[0m\u001b[0;34m.\u001b[0m\u001b[0m_consolidate_inplace\u001b[0m\u001b[0;34m(\u001b[0m\u001b[0;34m)\u001b[0m\u001b[0;34m\u001b[0m\u001b[0m\n\u001b[1;32m   2101\u001b[0m         \u001b[0;32mif\u001b[0m \u001b[0mself\u001b[0m\u001b[0;34m.\u001b[0m\u001b[0m_AXIS_REVERSED\u001b[0m\u001b[0;34m:\u001b[0m\u001b[0;34m\u001b[0m\u001b[0m\n\u001b[0;32m-> 2102\u001b[0;31m             \u001b[0;32mreturn\u001b[0m \u001b[0mself\u001b[0m\u001b[0;34m.\u001b[0m\u001b[0m_data\u001b[0m\u001b[0;34m.\u001b[0m\u001b[0mas_matrix\u001b[0m\u001b[0;34m(\u001b[0m\u001b[0mcolumns\u001b[0m\u001b[0;34m)\u001b[0m\u001b[0;34m.\u001b[0m\u001b[0mT\u001b[0m\u001b[0;34m\u001b[0m\u001b[0m\n\u001b[0m\u001b[1;32m   2103\u001b[0m         \u001b[0;32mreturn\u001b[0m \u001b[0mself\u001b[0m\u001b[0;34m.\u001b[0m\u001b[0m_data\u001b[0m\u001b[0;34m.\u001b[0m\u001b[0mas_matrix\u001b[0m\u001b[0;34m(\u001b[0m\u001b[0mcolumns\u001b[0m\u001b[0;34m)\u001b[0m\u001b[0;34m\u001b[0m\u001b[0m\n\u001b[1;32m   2104\u001b[0m \u001b[0;34m\u001b[0m\u001b[0m\n",
        "\u001b[0;32m/usr/local/lib/python2.7/dist-packages/pandas/core/internals.pyc\u001b[0m in \u001b[0;36mas_matrix\u001b[0;34m(self, items)\u001b[0m\n\u001b[1;32m   2709\u001b[0m             \u001b[0;32mreturn\u001b[0m \u001b[0mmgr\u001b[0m\u001b[0;34m.\u001b[0m\u001b[0mblocks\u001b[0m\u001b[0;34m[\u001b[0m\u001b[0;36m0\u001b[0m\u001b[0;34m]\u001b[0m\u001b[0;34m.\u001b[0m\u001b[0mget_values\u001b[0m\u001b[0;34m(\u001b[0m\u001b[0;34m)\u001b[0m\u001b[0;34m\u001b[0m\u001b[0m\n\u001b[1;32m   2710\u001b[0m         \u001b[0;32melse\u001b[0m\u001b[0;34m:\u001b[0m\u001b[0;34m\u001b[0m\u001b[0m\n\u001b[0;32m-> 2711\u001b[0;31m             \u001b[0;32mreturn\u001b[0m \u001b[0mmgr\u001b[0m\u001b[0;34m.\u001b[0m\u001b[0m_interleave\u001b[0m\u001b[0;34m(\u001b[0m\u001b[0;34m)\u001b[0m\u001b[0;34m\u001b[0m\u001b[0m\n\u001b[0m\u001b[1;32m   2712\u001b[0m \u001b[0;34m\u001b[0m\u001b[0m\n\u001b[1;32m   2713\u001b[0m     \u001b[0;32mdef\u001b[0m \u001b[0m_interleave\u001b[0m\u001b[0;34m(\u001b[0m\u001b[0mself\u001b[0m\u001b[0;34m)\u001b[0m\u001b[0;34m:\u001b[0m\u001b[0;34m\u001b[0m\u001b[0m\n",
        "\u001b[0;32m/usr/local/lib/python2.7/dist-packages/pandas/core/internals.pyc\u001b[0m in \u001b[0;36m_interleave\u001b[0;34m(self)\u001b[0m\n\u001b[1;32m   2736\u001b[0m         \u001b[0;32mfor\u001b[0m \u001b[0mblk\u001b[0m \u001b[0;32min\u001b[0m \u001b[0mself\u001b[0m\u001b[0;34m.\u001b[0m\u001b[0mblocks\u001b[0m\u001b[0;34m:\u001b[0m\u001b[0;34m\u001b[0m\u001b[0m\n\u001b[1;32m   2737\u001b[0m             \u001b[0mrl\u001b[0m \u001b[0;34m=\u001b[0m \u001b[0mblk\u001b[0m\u001b[0;34m.\u001b[0m\u001b[0mmgr_locs\u001b[0m\u001b[0;34m\u001b[0m\u001b[0m\n\u001b[0;32m-> 2738\u001b[0;31m             \u001b[0mresult\u001b[0m\u001b[0;34m[\u001b[0m\u001b[0mrl\u001b[0m\u001b[0;34m.\u001b[0m\u001b[0mindexer\u001b[0m\u001b[0;34m]\u001b[0m \u001b[0;34m=\u001b[0m \u001b[0mblk\u001b[0m\u001b[0;34m.\u001b[0m\u001b[0mget_values\u001b[0m\u001b[0;34m(\u001b[0m\u001b[0mdtype\u001b[0m\u001b[0;34m)\u001b[0m\u001b[0;34m\u001b[0m\u001b[0m\n\u001b[0m\u001b[1;32m   2739\u001b[0m             \u001b[0mitemmask\u001b[0m\u001b[0;34m[\u001b[0m\u001b[0mrl\u001b[0m\u001b[0;34m.\u001b[0m\u001b[0mindexer\u001b[0m\u001b[0;34m]\u001b[0m \u001b[0;34m=\u001b[0m \u001b[0;36m1\u001b[0m\u001b[0;34m\u001b[0m\u001b[0m\n\u001b[1;32m   2740\u001b[0m \u001b[0;34m\u001b[0m\u001b[0m\n",
        "\u001b[0;31mMemoryError\u001b[0m: "
       ]
      }
     ],
     "prompt_number": 13
    },
    {
     "cell_type": "markdown",
     "metadata": {},
     "source": [
      "**adding `y0_prd` as one column to X_test (so that we can split the test set into 2 subsets):**"
     ]
    },
    {
     "cell_type": "code",
     "collapsed": false,
     "input": [
      "df_test['isClass12'] = y0_prd # \n",
      "pd.Series(y0_prd).value_counts()"
     ],
     "language": "python",
     "metadata": {},
     "outputs": []
    },
    {
     "cell_type": "markdown",
     "metadata": {},
     "source": [
      "--------------------------------"
     ]
    },
    {
     "cell_type": "heading",
     "level": 2,
     "metadata": {},
     "source": [
      "2. \"`clf_12`\": classifying between class 1 and class 2"
     ]
    },
    {
     "cell_type": "heading",
     "level": 3,
     "metadata": {},
     "source": [
      "2.1 Training `clf_12`"
     ]
    },
    {
     "cell_type": "code",
     "collapsed": false,
     "input": [
      "df_train12 = df_train[ df_train.isClass12 == True ] \n",
      "X_train12 = df_train12[feature_cols]\n",
      "y12 = df_train12['Cover_Type']\n",
      "\n",
      "print 'traing clf_12...'\n",
      "err12 = train_and_evaluate( clf_12, X_train12, y12)"
     ],
     "language": "python",
     "metadata": {},
     "outputs": []
    },
    {
     "cell_type": "markdown",
     "metadata": {},
     "source": [
      "**(Saving the `df_train12` , in order to train `clf_12` separately later on:)**"
     ]
    },
    {
     "cell_type": "code",
     "collapsed": false,
     "input": [
      "if save_train12==True:\n",
      "    df_train12.to_csv(train12_fn, index = False)"
     ],
     "language": "python",
     "metadata": {},
     "outputs": []
    },
    {
     "cell_type": "heading",
     "level": 3,
     "metadata": {},
     "source": [
      "2.2 Giving predictions (\"`y12_prd`\") for test set"
     ]
    },
    {
     "cell_type": "code",
     "collapsed": false,
     "input": [
      "df_test12 = df_test[ df_test.isClass12 == True ] # instances to be classified by `clf_0` as belong to class 1/2\n",
      "X_test12 = df_test12[feature_cols]\n",
      "y12_prd = clf_12.predict(X_test12)"
     ],
     "language": "python",
     "metadata": {},
     "outputs": []
    },
    {
     "cell_type": "code",
     "collapsed": false,
     "input": [
      "pd.Series(y12_prd).value_counts()"
     ],
     "language": "python",
     "metadata": {},
     "outputs": []
    },
    {
     "cell_type": "markdown",
     "metadata": {},
     "source": [
      "--------------------------------"
     ]
    },
    {
     "cell_type": "heading",
     "level": 2,
     "metadata": {},
     "source": [
      "3. \"`clf_37`\": classifying class 3~7"
     ]
    },
    {
     "cell_type": "heading",
     "level": 3,
     "metadata": {},
     "source": [
      "3.1 Training `clf_37`"
     ]
    },
    {
     "cell_type": "code",
     "collapsed": false,
     "input": [
      "df_train37 = df_train[ df_train.isClass12 == False ] \n",
      "X_train37 = df_train37[feature_cols]\n",
      "y37 = df_train37['Cover_Type']\n",
      "\n",
      "print 'traing clf_37...'\n",
      "err37 = train_and_evaluate( clf_37, X_train37, y37)"
     ],
     "language": "python",
     "metadata": {},
     "outputs": []
    },
    {
     "cell_type": "markdown",
     "metadata": {},
     "source": [
      "**(Saving the `df_train12` , in order to train `clf_12` separately later on:)**"
     ]
    },
    {
     "cell_type": "code",
     "collapsed": false,
     "input": [
      "if save_train37==True:\n",
      "    df_train37.to_csv(train37_fn, index = False)"
     ],
     "language": "python",
     "metadata": {},
     "outputs": []
    },
    {
     "cell_type": "heading",
     "level": 3,
     "metadata": {},
     "source": [
      "3.2 Giving predictions (\"`y37_prd`\") for test set"
     ]
    },
    {
     "cell_type": "code",
     "collapsed": false,
     "input": [
      "df_test37 = df_test[ df_test.isClass12 == False ] \n",
      "X_test37 = df_test37[feature_cols]\n",
      "y37_prd = clf_37.predict(X_test37)"
     ],
     "language": "python",
     "metadata": {},
     "outputs": []
    },
    {
     "cell_type": "code",
     "collapsed": false,
     "input": [
      "pd.Series(y37_prd).value_counts()"
     ],
     "language": "python",
     "metadata": {},
     "outputs": []
    },
    {
     "cell_type": "code",
     "collapsed": false,
     "input": [
      "print len(y12_prd)+len(y37_prd), len(df_test)"
     ],
     "language": "python",
     "metadata": {},
     "outputs": []
    },
    {
     "cell_type": "markdown",
     "metadata": {},
     "source": [
      "--------------------------------"
     ]
    },
    {
     "cell_type": "heading",
     "level": 2,
     "metadata": {},
     "source": [
      "4. Putting results \"`y12_prd`\" and \"`y37_prd`\" together"
     ]
    },
    {
     "cell_type": "code",
     "collapsed": false,
     "input": [
      "res12 = pd.DataFrame(df_test12.Id)\n",
      "res12['Cover_Type'] = y12_prd\n",
      "res37 = pd.DataFrame(df_test37.Id)\n",
      "res37['Cover_Type'] = y37_prd\n",
      "\n",
      "res_all = pd.concat([res12, res37])\n",
      "print len(res_all)\n",
      "\n",
      "res_all.to_csv(out_fn, index=False)"
     ],
     "language": "python",
     "metadata": {},
     "outputs": []
    },
    {
     "cell_type": "code",
     "collapsed": false,
     "input": [
      "print 'error for clf_0: %.4f +/- %.4f' % err0\n",
      "print 'error for clf_12: %.4f +/- %.4f' % err12\n",
      "print 'error for clf_37: %.4f +/- %.4f' % err37\n",
      "\n",
      "y0_ratio = pd.Series(y0_prd).value_counts()[1]*1./len(y0_prd) #ratio of instances classified by\n",
      "print 'y0_prd ratio is: %.4f' % y0_ratio\n",
      "\n",
      "err_est =  err0[0]*( y0_ratio*err12[0] + (1-y0_ratio)*err37[0] )\n",
      "print 'so the estimated score is %.4f' % err_est"
     ],
     "language": "python",
     "metadata": {},
     "outputs": []
    }
   ],
   "metadata": {}
  }
 ]
}