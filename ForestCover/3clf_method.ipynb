{
 "metadata": {
  "name": "",
  "signature": "sha256:6a215167fb42984f5dffc84a32b6aa2f4a414960472079fea3dd72ee17ab9480"
 },
 "nbformat": 3,
 "nbformat_minor": 0,
 "worksheets": [
  {
   "cells": [
    {
     "cell_type": "heading",
     "level": 1,
     "metadata": {},
     "source": [
      "Forest Cover Type (2015-01-13): script using 3 classifiers"
     ]
    },
    {
     "cell_type": "markdown",
     "metadata": {},
     "source": [
      "In this ipynb, we use 3 classifiers to make predictions.  \n",
      "\n",
      "**We have 3 classifiers in total:**\n",
      "1. The first classifier, **`clf_0`**: predicts wheter an instance belongs to class 1 and 2, or it belongs to class 3 to 7.\n",
      "2. For instances belonging to class 1/2, we use the classifier **`clf_12`**, to distinguish between class 1 and class 2.\n",
      "3. For instances belonging to class 3~7, use classifier **`clf_37`**, to tell which class it belongs to."
     ]
    },
    {
     "cell_type": "markdown",
     "metadata": {},
     "source": [
      "---------------"
     ]
    },
    {
     "cell_type": "markdown",
     "metadata": {},
     "source": [
      "**Change the \"`clf_0`\", \"`clf_12`\" and \"`clf_37`\" below in order to get different result:**"
     ]
    },
    {
     "cell_type": "code",
     "collapsed": false,
     "input": [
      "from sklearn.ensemble import RandomForestClassifier, ExtraTreesClassifier, AdaBoostClassifier\n",
      "#clf_0 = RandomForestClassifier(n_estimators = 5, n_jobs = -1)\n",
      "#clf_12 = RandomForestClassifier(n_estimators = 5, n_jobs = -1)\n",
      "#clf_37 = RandomForestClassifier(n_estimators = 5, n_jobs = -1)\n",
      "clf_et =  ExtraTreesClassifier(n_estimators=400, criterion='gini', max_depth=None, \n",
      "                        min_samples_split=2, min_samples_leaf=1, max_features='auto', \n",
      "                        bootstrap=False, oob_score=False, n_jobs=-1, verbose=0, \n",
      "                        min_density=None, random_state=0)\n",
      "\n",
      "#clf_0 = AdaBoostClassifier(base_estimator=clf_et, n_estimators=300, learning_rate=0.5, algorithm='SAMME', random_state=1)\n",
      "\n",
      "clf_12 = AdaBoostClassifier(base_estimator=clf_et, n_estimators=300, learning_rate=0.5, algorithm='SAMME', random_state=1)\n",
      "clf_37 = AdaBoostClassifier(base_estimator=clf_et, n_estimators=100, learning_rate=0.5, algorithm='SAMME', random_state=1)"
     ],
     "language": "python",
     "metadata": {},
     "outputs": [],
     "prompt_number": 1
    },
    {
     "cell_type": "markdown",
     "metadata": {},
     "source": [
      "**Change the variables below to specify input/output file names: **"
     ]
    },
    {
     "cell_type": "code",
     "collapsed": false,
     "input": [
      "#train_fn = 'csv_data/train.csv'\n",
      "#test_fn = 'csv_data/test.csv'\n",
      "train_fn = 'train_FE2.csv'\n",
      "test_fn = 'test_FE2.csv'\n",
      "out_fn = '0114_3step_ExTree_FE2.csv'\n",
      "\n",
      "save_train0 = True\n",
      "train0_fn = 'train0_FE2.csv'\n",
      "\n",
      "save_train12 = True\n",
      "train12_fn = 'train12_FE2.csv'\n",
      "\n",
      "save_train37 = True\n",
      "train37_fn = 'train37_FE2.csv'"
     ],
     "language": "python",
     "metadata": {},
     "outputs": [],
     "prompt_number": 2
    },
    {
     "cell_type": "markdown",
     "metadata": {},
     "source": [
      "--------------------------------"
     ]
    },
    {
     "cell_type": "heading",
     "level": 2,
     "metadata": {},
     "source": [
      "0. Reading data & defining functions"
     ]
    },
    {
     "cell_type": "heading",
     "level": 3,
     "metadata": {},
     "source": [
      "0.1 Reading data"
     ]
    },
    {
     "cell_type": "code",
     "collapsed": false,
     "input": [
      "import pandas as pd\n",
      "df_train = pd.read_csv(train_fn)\n",
      "df_test = pd.read_csv(test_fn)\n",
      "df_train.shape, df_test.shape"
     ],
     "language": "python",
     "metadata": {},
     "outputs": [
      {
       "metadata": {},
       "output_type": "pyout",
       "prompt_number": 3,
       "text": [
        "((15120, 67), (565892, 66))"
       ]
      }
     ],
     "prompt_number": 3
    },
    {
     "cell_type": "markdown",
     "metadata": {},
     "source": [
      "The list **\"`feature_cols`\"** is the columns (features) to use when training our clfs. "
     ]
    },
    {
     "cell_type": "code",
     "collapsed": false,
     "input": [
      "feature_cols = [col for col in df_train.columns if col not in ['Cover_Type','Id']] #the attributes to use when predicting"
     ],
     "language": "python",
     "metadata": {},
     "outputs": [],
     "prompt_number": 4
    },
    {
     "cell_type": "markdown",
     "metadata": {},
     "source": [
      "Here we add a boolean attribute:** \"`isClass12`\"**, indicating whether it belongs to first 2 classes or not."
     ]
    },
    {
     "cell_type": "code",
     "collapsed": false,
     "input": [
      "df_train['isClass12'] = df_train.Cover_Type<3\n",
      "test_ids = df_test['Id']\n",
      "len(test_ids)"
     ],
     "language": "python",
     "metadata": {},
     "outputs": [
      {
       "metadata": {},
       "output_type": "pyout",
       "prompt_number": 5,
       "text": [
        "565892"
       ]
      }
     ],
     "prompt_number": 5
    },
    {
     "cell_type": "heading",
     "level": 3,
     "metadata": {},
     "source": [
      "0.2 Defining helper functions"
     ]
    },
    {
     "cell_type": "code",
     "collapsed": false,
     "input": [
      "from sklearn.cross_validation import cross_val_score, KFold\n",
      "from scipy.stats import sem\n",
      "import numpy as np"
     ],
     "language": "python",
     "metadata": {},
     "outputs": [],
     "prompt_number": 6
    },
    {
     "cell_type": "markdown",
     "metadata": {},
     "source": [
      "**`cal_CV_score()`**: function to estimate classifier performance by CV"
     ]
    },
    {
     "cell_type": "code",
     "collapsed": false,
     "input": [
      "def cal_CV_score(clf, X, y, K=5, seed=1):\n",
      "    cv = KFold( X.shape[0], K, shuffle=True, random_state = seed )\n",
      "    print 'CV results: ', \n",
      "    scores = cross_val_score(clf, X, y, cv = cv)\n",
      "    print scores    \n",
      "    m = np.mean(scores)\n",
      "    std = sem(scores)\n",
      "    print \"CV score= %f +/- %f\" % (m, std)\n",
      "    return (m, std)"
     ],
     "language": "python",
     "metadata": {},
     "outputs": [],
     "prompt_number": 7
    },
    {
     "cell_type": "markdown",
     "metadata": {},
     "source": [
      "**`train_and_evaluate()`**: train classifier, and calculate CV score of this classifier"
     ]
    },
    {
     "cell_type": "code",
     "collapsed": false,
     "input": [
      "def train_and_evaluate(clf,X, y, K=5, seed=1):\n",
      "    print 'training...',\n",
      "    clf.fit(X, y)\n",
      "    print 'done'\n",
      "    return cal_CV_score(clf, X, y, K, seed)"
     ],
     "language": "python",
     "metadata": {},
     "outputs": [],
     "prompt_number": 8
    },
    {
     "cell_type": "markdown",
     "metadata": {},
     "source": [
      "--------------------------------"
     ]
    },
    {
     "cell_type": "heading",
     "level": 2,
     "metadata": {},
     "source": [
      "1. \"`clf_0`\": classifying whether an instance belongs to first 2 classes"
     ]
    },
    {
     "cell_type": "heading",
     "level": 3,
     "metadata": {},
     "source": [
      "1.1 Training `clf_0`"
     ]
    },
    {
     "cell_type": "code",
     "collapsed": false,
     "input": [
      "X_train0 = df_train[feature_cols]\n",
      "y0 = df_train['isClass12']\n",
      "\n",
      "print 'traing clf_0...'\n",
      "#err0 = train_and_evaluate( clf_0, X_train0, y0 )\n",
      "\n",
      "from sklearn.preprocessing import balance_weights\n",
      "#clf = RandomForestClassifier(n_estimators=200)\n",
      "#clf_0 = clf.fit(X_train0, y0, sample_weight = balance_weights(y0))\n",
      "clf = AdaBoostClassifier(base_estimator=RandomForestClassifier(n_estimators=200), \n",
      "                   n_estimators=300, learning_rate=0.5, random_state=1)\n",
      "clf_0 = clf.fit(X_train0, y0, sample_weight = balance_weights(y0))\n",
      "\n",
      "err0 = cal_CV_score(clf_0, X_train0, y0)"
     ],
     "language": "python",
     "metadata": {},
     "outputs": [
      {
       "output_type": "stream",
       "stream": "stdout",
       "text": [
        "traing clf_0...\n",
        "CV results: "
       ]
      },
      {
       "output_type": "stream",
       "stream": "stdout",
       "text": [
        " [ 0.95701058  0.96527778  0.96593915  0.96593915  0.96990741]\n",
        "CV score= 0.964815 +/- 0.002116\n"
       ]
      },
      {
       "output_type": "stream",
       "stream": "stderr",
       "text": [
        "/media/SD2GB/MiniConda/lib/python2.7/site-packages/sklearn/utils/__init__.py:93: DeprecationWarning: Function balance_weights is deprecated; balance_weights is an internal function and will be removed in 0.16\n",
        "  warnings.warn(msg, category=DeprecationWarning)\n"
       ]
      }
     ],
     "prompt_number": 9
    },
    {
     "cell_type": "markdown",
     "metadata": {},
     "source": [
      "**(Store our classifier:)**"
     ]
    },
    {
     "cell_type": "code",
     "collapsed": false,
     "input": [
      "#model_name = 'clf_0.model'\n",
      "#import cPickle as pk\n",
      "#with open(model_name, 'w') as f:\n",
      "  #  pk.dump(clf_0, f)"
     ],
     "language": "python",
     "metadata": {},
     "outputs": [],
     "prompt_number": 10
    },
    {
     "cell_type": "markdown",
     "metadata": {},
     "source": [
      "**(we can later on use the model by:) **"
     ]
    },
    {
     "cell_type": "code",
     "collapsed": false,
     "input": [
      "#with open(model_name) as f:\n",
      " #   clf_0 = pk.load( f )"
     ],
     "language": "python",
     "metadata": {},
     "outputs": [],
     "prompt_number": 11
    },
    {
     "cell_type": "markdown",
     "metadata": {},
     "source": [
      "**(Saving the `df_train0` , in order to train `clf_` separately later on:)**"
     ]
    },
    {
     "cell_type": "code",
     "collapsed": false,
     "input": [
      "if save_train0==True:\n",
      "    df_train.to_csv(train0_fn, index = False)"
     ],
     "language": "python",
     "metadata": {},
     "outputs": [],
     "prompt_number": 12
    },
    {
     "cell_type": "heading",
     "level": 3,
     "metadata": {},
     "source": [
      "1.2 Getting the predicted result (\"`y0_prd`\") by `clf_0`"
     ]
    },
    {
     "cell_type": "code",
     "collapsed": false,
     "input": [
      "X_test = df_test[feature_cols]\n",
      "y0_prd = clf_0.predict(X_test)\n",
      "len(y0_prd)"
     ],
     "language": "python",
     "metadata": {},
     "outputs": [
      {
       "metadata": {},
       "output_type": "pyout",
       "prompt_number": 13,
       "text": [
        "565892"
       ]
      }
     ],
     "prompt_number": 13
    },
    {
     "cell_type": "markdown",
     "metadata": {},
     "source": [
      "**adding `y0_prd` as one column to X_test (so that we can split the test set into 2 subsets):**"
     ]
    },
    {
     "cell_type": "code",
     "collapsed": false,
     "input": [
      "df_test['isClass12'] = y0_prd # \n",
      "pd.Series(y0_prd).value_counts()"
     ],
     "language": "python",
     "metadata": {},
     "outputs": [
      {
       "metadata": {},
       "output_type": "pyout",
       "prompt_number": 14,
       "text": [
        "True     442591\n",
        "False    123301\n",
        "dtype: int64"
       ]
      }
     ],
     "prompt_number": 14
    },
    {
     "cell_type": "markdown",
     "metadata": {},
     "source": [
      "--------------------------------"
     ]
    },
    {
     "cell_type": "heading",
     "level": 2,
     "metadata": {},
     "source": [
      "2. \"`clf_12`\": classifying between class 1 and class 2"
     ]
    },
    {
     "cell_type": "heading",
     "level": 3,
     "metadata": {},
     "source": [
      "2.1 Training `clf_12`"
     ]
    },
    {
     "cell_type": "code",
     "collapsed": false,
     "input": [
      "df_train12 = df_train[ df_train.isClass12 == True ] \n",
      "X_train12 = df_train12[feature_cols]\n",
      "y12 = df_train12['Cover_Type']\n",
      "\n",
      "print 'traing clf_12...'\n",
      "err12 = train_and_evaluate( clf_12, X_train12, y12)"
     ],
     "language": "python",
     "metadata": {},
     "outputs": [
      {
       "output_type": "stream",
       "stream": "stdout",
       "text": [
        "traing clf_12...\n",
        "training... "
       ]
      },
      {
       "output_type": "stream",
       "stream": "stdout",
       "text": [
        "done\n",
        "CV results:  "
       ]
      },
      {
       "output_type": "stream",
       "stream": "stdout",
       "text": [
        "[ 0.85185185  0.85763889  0.84027778  0.85300926  0.85300926]\n",
        "CV score= 0.851157 +/- 0.002896\n"
       ]
      }
     ],
     "prompt_number": 15
    },
    {
     "cell_type": "markdown",
     "metadata": {},
     "source": [
      "**(Saving the `df_train12` , in order to train `clf_12` separately later on:)**"
     ]
    },
    {
     "cell_type": "code",
     "collapsed": false,
     "input": [
      "if save_train12==True:\n",
      "    df_train12.to_csv(train12_fn, index = False)"
     ],
     "language": "python",
     "metadata": {},
     "outputs": [],
     "prompt_number": 16
    },
    {
     "cell_type": "heading",
     "level": 3,
     "metadata": {},
     "source": [
      "2.2 Giving predictions (\"`y12_prd`\") for test set"
     ]
    },
    {
     "cell_type": "code",
     "collapsed": false,
     "input": [
      "df_test12 = df_test[ df_test.isClass12 == True ] # instances to be classified by `clf_0` as belong to class 1/2\n",
      "X_test12 = df_test12[feature_cols]\n",
      "y12_prd = clf_12.predict(X_test12)"
     ],
     "language": "python",
     "metadata": {},
     "outputs": [],
     "prompt_number": 17
    },
    {
     "cell_type": "code",
     "collapsed": false,
     "input": [
      "pd.Series(y12_prd).value_counts()"
     ],
     "language": "python",
     "metadata": {},
     "outputs": [
      {
       "metadata": {},
       "output_type": "pyout",
       "prompt_number": 18,
       "text": [
        "2    233073\n",
        "1    209518\n",
        "dtype: int64"
       ]
      }
     ],
     "prompt_number": 18
    },
    {
     "cell_type": "markdown",
     "metadata": {},
     "source": [
      "--------------------------------"
     ]
    },
    {
     "cell_type": "heading",
     "level": 2,
     "metadata": {},
     "source": [
      "3. \"`clf_37`\": classifying class 3~7"
     ]
    },
    {
     "cell_type": "heading",
     "level": 3,
     "metadata": {},
     "source": [
      "3.1 Training `clf_37`"
     ]
    },
    {
     "cell_type": "code",
     "collapsed": false,
     "input": [
      "df_train37 = df_train[ df_train.isClass12 == False ] \n",
      "X_train37 = df_train37[feature_cols]\n",
      "y37 = df_train37['Cover_Type']\n",
      "\n",
      "print 'traing clf_37...'\n",
      "err37 = train_and_evaluate( clf_37, X_train37, y37)"
     ],
     "language": "python",
     "metadata": {},
     "outputs": [
      {
       "output_type": "stream",
       "stream": "stdout",
       "text": [
        "traing clf_37...\n",
        "training... "
       ]
      },
      {
       "output_type": "stream",
       "stream": "stdout",
       "text": [
        "done\n",
        "CV results:  "
       ]
      },
      {
       "output_type": "stream",
       "stream": "stdout",
       "text": [
        "[ 0.9537037   0.95648148  0.95231481  0.94490741  0.95462963]\n",
        "CV score= 0.952407 +/- 0.001993\n"
       ]
      }
     ],
     "prompt_number": 19
    },
    {
     "cell_type": "markdown",
     "metadata": {},
     "source": [
      "**(Saving the `df_train12` , in order to train `clf_12` separately later on:)**"
     ]
    },
    {
     "cell_type": "code",
     "collapsed": false,
     "input": [
      "if save_train37==True:\n",
      "    df_train37.to_csv(train37_fn, index = False)"
     ],
     "language": "python",
     "metadata": {},
     "outputs": [],
     "prompt_number": 20
    },
    {
     "cell_type": "heading",
     "level": 3,
     "metadata": {},
     "source": [
      "3.2 Giving predictions (\"`y37_prd`\") for test set"
     ]
    },
    {
     "cell_type": "code",
     "collapsed": false,
     "input": [
      "df_test37 = df_test[ df_test.isClass12 == False ] \n",
      "X_test37 = df_test37[feature_cols]\n",
      "y37_prd = clf_37.predict(X_test37)"
     ],
     "language": "python",
     "metadata": {},
     "outputs": [],
     "prompt_number": 21
    },
    {
     "cell_type": "code",
     "collapsed": false,
     "input": [
      "pd.Series(y37_prd).value_counts()"
     ],
     "language": "python",
     "metadata": {},
     "outputs": [
      {
       "metadata": {},
       "output_type": "pyout",
       "prompt_number": 22,
       "text": [
        "3    38350\n",
        "5    28848\n",
        "7    28337\n",
        "6    25821\n",
        "4     1945\n",
        "dtype: int64"
       ]
      }
     ],
     "prompt_number": 22
    },
    {
     "cell_type": "code",
     "collapsed": false,
     "input": [
      "print len(y12_prd)+len(y37_prd), len(df_test)"
     ],
     "language": "python",
     "metadata": {},
     "outputs": [
      {
       "output_type": "stream",
       "stream": "stdout",
       "text": [
        "565892 565892\n"
       ]
      }
     ],
     "prompt_number": 23
    },
    {
     "cell_type": "markdown",
     "metadata": {},
     "source": [
      "--------------------------------"
     ]
    },
    {
     "cell_type": "heading",
     "level": 2,
     "metadata": {},
     "source": [
      "4. Putting results \"`y12_prd`\" and \"`y37_prd`\" together"
     ]
    },
    {
     "cell_type": "code",
     "collapsed": false,
     "input": [
      "res12 = pd.DataFrame(df_test12.Id)\n",
      "res12['Cover_Type'] = y12_prd\n",
      "res37 = pd.DataFrame(df_test37.Id)\n",
      "res37['Cover_Type'] = y37_prd\n",
      "\n",
      "res_all = pd.concat([res12, res37])\n",
      "print len(res_all)\n",
      "\n",
      "res_all.to_csv(out_fn, index=False)"
     ],
     "language": "python",
     "metadata": {},
     "outputs": [
      {
       "output_type": "stream",
       "stream": "stdout",
       "text": [
        "565892\n"
       ]
      }
     ],
     "prompt_number": 24
    },
    {
     "cell_type": "code",
     "collapsed": false,
     "input": [
      "print 'error for clf_0: %.4f +/- %.4f' % err0\n",
      "print 'error for clf_12: %.4f +/- %.4f' % err12\n",
      "print 'error for clf_37: %.4f +/- %.4f' % err37\n",
      "\n",
      "y0_ratio = pd.Series(y0_prd).value_counts()[1]*1./len(y0_prd) #ratio of instances classified by\n",
      "print 'y0_prd ratio is: %.4f' % y0_ratio\n",
      "\n",
      "err_est =  err0[0]*( y0_ratio*err12[0] + (1-y0_ratio)*err37[0] )\n",
      "print 'so the estimated score is %.4f' % err_est"
     ],
     "language": "python",
     "metadata": {},
     "outputs": [
      {
       "output_type": "stream",
       "stream": "stdout",
       "text": [
        "error for clf_0: 0.9648 +/- 0.0021\n",
        "error for clf_12: 0.8512 +/- 0.0029\n",
        "error for clf_37: 0.9524 +/- 0.0020\n",
        "y0_prd ratio is: 0.7821\n",
        "so the estimated score is 0.8425\n"
       ]
      }
     ],
     "prompt_number": 25
    }
   ],
   "metadata": {}
  }
 ]
}