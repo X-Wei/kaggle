{
 "metadata": {
  "name": "",
  "signature": "sha256:5d53f65a430460565b97e85eff4b0121ed9a2f0624bebe4b39450d830b06793b"
 },
 "nbformat": 3,
 "nbformat_minor": 0,
 "worksheets": [
  {
   "cells": [
    {
     "cell_type": "heading",
     "level": 1,
     "metadata": {},
     "source": [
      "Feature Engineering for Forest_Cover_Type"
     ]
    },
    {
     "cell_type": "markdown",
     "metadata": {},
     "source": [
      "This ipynb contains attempts to do feature engineering with the data. "
     ]
    },
    {
     "cell_type": "code",
     "collapsed": false,
     "input": [
      "import pandas as pd\n",
      "%matplotlib inline\n",
      "import matplotlib.pyplot as plt\n",
      "import numpy as np"
     ],
     "language": "python",
     "metadata": {},
     "outputs": [],
     "prompt_number": 1
    },
    {
     "cell_type": "heading",
     "level": 2,
     "metadata": {},
     "source": [
      "0. Reading data"
     ]
    },
    {
     "cell_type": "code",
     "collapsed": false,
     "input": [
      "df_train0 = pd.read_csv('csv_data/train_cls12_cls37.csv')\n",
      "df_train12 = pd.read_csv('csv_data/train_cls12.csv')\n",
      "df_train37 = pd.read_csv('csv_data/train_cls37.csv')"
     ],
     "language": "python",
     "metadata": {},
     "outputs": [],
     "prompt_number": 2
    },
    {
     "cell_type": "code",
     "collapsed": false,
     "input": [
      "X = df_train0\n",
      "X.ix[0:1, :12]"
     ],
     "language": "python",
     "metadata": {},
     "outputs": [
      {
       "html": [
        "<div style=\"max-height:1000px;max-width:1500px;overflow:auto;\">\n",
        "<table border=\"1\" class=\"dataframe\">\n",
        "  <thead>\n",
        "    <tr style=\"text-align: right;\">\n",
        "      <th></th>\n",
        "      <th>Id</th>\n",
        "      <th>Elevation</th>\n",
        "      <th>Aspect</th>\n",
        "      <th>Slope</th>\n",
        "      <th>Horizontal_Distance_To_Hydrology</th>\n",
        "      <th>Vertical_Distance_To_Hydrology</th>\n",
        "      <th>Horizontal_Distance_To_Roadways</th>\n",
        "      <th>Hillshade_9am</th>\n",
        "      <th>Hillshade_Noon</th>\n",
        "      <th>Hillshade_3pm</th>\n",
        "      <th>Horizontal_Distance_To_Fire_Points</th>\n",
        "      <th>Wilderness_Area1</th>\n",
        "    </tr>\n",
        "  </thead>\n",
        "  <tbody>\n",
        "    <tr>\n",
        "      <th>0</th>\n",
        "      <td> 1</td>\n",
        "      <td> 2596</td>\n",
        "      <td> 51</td>\n",
        "      <td> 3</td>\n",
        "      <td> 258</td>\n",
        "      <td> 0</td>\n",
        "      <td> 510</td>\n",
        "      <td> 221</td>\n",
        "      <td> 232</td>\n",
        "      <td> 148</td>\n",
        "      <td> 6279</td>\n",
        "      <td> 1</td>\n",
        "    </tr>\n",
        "    <tr>\n",
        "      <th>1</th>\n",
        "      <td> 2</td>\n",
        "      <td> 2590</td>\n",
        "      <td> 56</td>\n",
        "      <td> 2</td>\n",
        "      <td> 212</td>\n",
        "      <td>-6</td>\n",
        "      <td> 390</td>\n",
        "      <td> 220</td>\n",
        "      <td> 235</td>\n",
        "      <td> 151</td>\n",
        "      <td> 6225</td>\n",
        "      <td> 1</td>\n",
        "    </tr>\n",
        "  </tbody>\n",
        "</table>\n",
        "<p>2 rows \u00d7 12 columns</p>\n",
        "</div>"
       ],
       "metadata": {},
       "output_type": "pyout",
       "prompt_number": 8,
       "text": [
        "   Id  Elevation  Aspect  Slope  Horizontal_Distance_To_Hydrology  \\\n",
        "0   1       2596      51      3                               258   \n",
        "1   2       2590      56      2                               212   \n",
        "\n",
        "   Vertical_Distance_To_Hydrology  Horizontal_Distance_To_Roadways  \\\n",
        "0                               0                              510   \n",
        "1                              -6                              390   \n",
        "\n",
        "   Hillshade_9am  Hillshade_Noon  Hillshade_3pm  \\\n",
        "0            221             232            148   \n",
        "1            220             235            151   \n",
        "\n",
        "   Horizontal_Distance_To_Fire_Points  Wilderness_Area1  \n",
        "0                                6279                 1  \n",
        "1                                6225                 1  \n",
        "\n",
        "[2 rows x 12 columns]"
       ]
      }
     ],
     "prompt_number": 8
    },
    {
     "cell_type": "code",
     "collapsed": false,
     "input": [],
     "language": "python",
     "metadata": {},
     "outputs": []
    }
   ],
   "metadata": {}
  }
 ]
}