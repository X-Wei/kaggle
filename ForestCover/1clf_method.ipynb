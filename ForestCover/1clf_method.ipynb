{
 "metadata": {
  "name": "",
  "signature": "sha256:104fb48bb79d214dd4610cae5dcaf7836e82f7e2ac9472b197b67078570deea6"
 },
 "nbformat": 3,
 "nbformat_minor": 0,
 "worksheets": [
  {
   "cells": [
    {
     "cell_type": "heading",
     "level": 1,
     "metadata": {},
     "source": [
      "Forest Cover Type (2015-01-13): script with one classifier"
     ]
    },
    {
     "cell_type": "markdown",
     "metadata": {},
     "source": [
      "In this ipynb, we use one clissifier (`clf`) to predict the cover type, and give the result.\n",
      "\n",
      "**Replace the `clf` and `outfn` below in order to get the corresponding result:**"
     ]
    },
    {
     "cell_type": "code",
     "collapsed": false,
     "input": [
      "from sklearn.ensemble import RandomForestClassifier, ExtraTreesClassifier, AdaBoostClassifier\n",
      "clf_et =  ExtraTreesClassifier(n_estimators=400, criterion='gini', max_depth=None, \n",
      "                        min_samples_split=2, min_samples_leaf=1, max_features='auto', \n",
      "                        bootstrap=False, oob_score=False, n_jobs=-1, verbose=0, \n",
      "                        min_density=None, random_state=0)\n",
      "\n",
      "clf = AdaBoostClassifier(base_estimator=clf_et, n_estimators=100, learning_rate=0.5, algorithm='SAMME', random_state=1)\n",
      "outfn = '0113_extTree.csv'\n",
      "output = True"
     ],
     "language": "python",
     "metadata": {},
     "outputs": [],
     "prompt_number": 1
    },
    {
     "cell_type": "markdown",
     "metadata": {},
     "source": [
      "-------"
     ]
    },
    {
     "cell_type": "heading",
     "level": 2,
     "metadata": {},
     "source": [
      "0. Reading the data"
     ]
    },
    {
     "cell_type": "code",
     "collapsed": false,
     "input": [
      "import pandas as pd\n",
      "df_train = pd.read_csv('../csv_data/train.csv')\n",
      "df_test = pd.read_csv('../csv_data/test.csv')"
     ],
     "language": "python",
     "metadata": {},
     "outputs": [],
     "prompt_number": 2
    },
    {
     "cell_type": "code",
     "collapsed": false,
     "input": [
      "df_train.shape, df_test.shape"
     ],
     "language": "python",
     "metadata": {},
     "outputs": [
      {
       "metadata": {},
       "output_type": "pyout",
       "prompt_number": 3,
       "text": [
        "((15120, 56), (565892, 55))"
       ]
      }
     ],
     "prompt_number": 3
    },
    {
     "cell_type": "code",
     "collapsed": false,
     "input": [
      "feature_cols = [col for col in df_train.columns if col not in ['Cover_Type','Id']]\n",
      "X_train = df_train[feature_cols]\n",
      "X_test = df_test[feature_cols]\n",
      "y = df_train['Cover_Type'] # the class to classify at last\n",
      "test_ids = df_test['Id']"
     ],
     "language": "python",
     "metadata": {},
     "outputs": [],
     "prompt_number": 4
    },
    {
     "cell_type": "heading",
     "level": 2,
     "metadata": {},
     "source": [
      "1. Training the classifier"
     ]
    },
    {
     "cell_type": "code",
     "collapsed": false,
     "input": [
      "clf.fit(X_train, y)"
     ],
     "language": "python",
     "metadata": {},
     "outputs": [
      {
       "metadata": {},
       "output_type": "pyout",
       "prompt_number": 5,
       "text": [
        "AdaBoostClassifier(algorithm='SAMME',\n",
        "          base_estimator=ExtraTreesClassifier(bootstrap=False, compute_importances=None,\n",
        "           criterion='gini', max_depth=None, max_features='auto',\n",
        "           min_density=None, min_samples_leaf=1, min_samples_split=2,\n",
        "           n_estimators=400, n_jobs=-1, oob_score=False, random_state=0,\n",
        "           verbose=0),\n",
        "          learning_rate=0.5, n_estimators=100, random_state=1)"
       ]
      }
     ]
    },
    {
     "cell_type": "heading",
     "level": 2,
     "metadata": {},
     "source": [
      "2. Using CV to estimate our classifier"
     ]
    },
    {
     "cell_type": "code",
     "collapsed": false,
     "input": [
      "from sklearn.cross_validation import cross_val_score, KFold\n",
      "cv5 = KFold( X_train.shape[0], 5, shuffle=True, random_state = 1 )\n",
      "scores = cross_val_score(clf, X_train, y, cv = cv5)\n",
      "print scores\n",
      "from scipy.stats import sem\n",
      "import numpy as np\n",
      "print \"CV score: %f +/- %f\" % (np.mean(scores), sem(scores))"
     ],
     "language": "python",
     "metadata": {},
     "outputs": []
    },
    {
     "cell_type": "heading",
     "level": 2,
     "metadata": {},
     "source": [
      "3. Giving predictions to X_test"
     ]
    },
    {
     "cell_type": "code",
     "collapsed": false,
     "input": [
      "prd = clf.predict(X_test)"
     ],
     "language": "python",
     "metadata": {},
     "outputs": []
    },
    {
     "cell_type": "code",
     "collapsed": false,
     "input": [
      "df_sub = pd.read_csv('../csv_data/sampleSubmission.csv')\n",
      "df_sub['Cover_Type'] = prd\n",
      "df_sub.head()\n",
      "if output=True:\n",
      "    df_sub.to_csv(outfn, index=False)"
     ],
     "language": "python",
     "metadata": {},
     "outputs": []
    }
   ],
   "metadata": {}
  }
 ]
}